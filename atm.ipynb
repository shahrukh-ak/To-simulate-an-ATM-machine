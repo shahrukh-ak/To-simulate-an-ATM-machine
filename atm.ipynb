{
 "cells": [
  {
   "cell_type": "code",
   "execution_count": 1,
   "metadata": {},
   "outputs": [
    {
     "name": "stdout",
     "output_type": "stream",
     "text": [
      "Enter your amount to be drawn: 145\n",
      "Please collect you bill as follows:\n",
      " $100: 1 \n",
      " $20: 2 \n",
      " $5: 1\n"
     ]
    }
   ],
   "source": [
    "amount = int(input(\"Enter your amount to be drawn: \"))\n",
    "am_str = str(amount)\n",
    "v=int(am_str[1])*10\n",
    "if amount%5 == 0 and v%20==0:\n",
    "    a = am_str[0]\n",
    "    b = int(a) * 100\n",
    "    if b%100 == 0:\n",
    "        b = b//100\n",
    "    c = am_str[1]\n",
    "    d = int(c)*10\n",
    "    if d%20 == 0:\n",
    "        d=d//20\n",
    "    e = am_str[2]\n",
    "    f = int(e)\n",
    "    if f == 5:\n",
    "        f = f//5\n",
    "    elif f == 0:\n",
    "        f = \"0\"\n",
    "    else:\n",
    "        print(\"The amount can not be drawn\")\n",
    "    print(f\"Please collect you bill as follows:\\n $100: {b} \\n $20: {d} \\n $5: {f}\")\n",
    "    \n",
    "else:\n",
    "    print(\"The amount can not be drawn\")\n",
    "    \n",
    "    "
   ]
  },
  {
   "cell_type": "code",
   "execution_count": 2,
   "metadata": {},
   "outputs": [
    {
     "name": "stdout",
     "output_type": "stream",
     "text": [
      "Enter your amount to be drawn: 73\n",
      "The amount can not be drawn\n"
     ]
    }
   ],
   "source": [
    "amount = int(input(\"Enter your amount to be drawn: \"))\n",
    "am_str = str(amount)\n",
    "v=int(am_str[1])*10\n",
    "if amount%5 == 0 and v%20==0:\n",
    "    a = am_str[0]\n",
    "    b = int(a) * 100\n",
    "    if b%100 == 0:\n",
    "        b = b//100\n",
    "    c = am_str[1]\n",
    "    d = int(c)*10\n",
    "    if d%20 == 0:\n",
    "        d=d//20\n",
    "    e = am_str[2]\n",
    "    f = int(e)\n",
    "    if f == 5:\n",
    "        f = f//5\n",
    "    elif f == 0:\n",
    "        f = \"0\"\n",
    "    else:\n",
    "        print(\"The amount can not be drawn\")\n",
    "    print(f\"Please collect you bill as follows:\\n $100: {b} \\n $20: {d} \\n $5: {f}\")\n",
    "    \n",
    "else:\n",
    "    print(\"The amount can not be drawn\")\n",
    "    \n",
    "    "
   ]
  },
  {
   "cell_type": "code",
   "execution_count": null,
   "metadata": {},
   "outputs": [],
   "source": []
  }
 ],
 "metadata": {
  "kernelspec": {
   "display_name": "Python 3",
   "language": "python",
   "name": "python3"
  },
  "language_info": {
   "codemirror_mode": {
    "name": "ipython",
    "version": 3
   },
   "file_extension": ".py",
   "mimetype": "text/x-python",
   "name": "python",
   "nbconvert_exporter": "python",
   "pygments_lexer": "ipython3",
   "version": "3.7.3"
  }
 },
 "nbformat": 4,
 "nbformat_minor": 2
}
